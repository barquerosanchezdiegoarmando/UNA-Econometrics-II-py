{
 "cells": [
  {
   "cell_type": "markdown",
   "id": "17994889",
   "metadata": {},
   "source": [
    "<img src=\"escuela_economia_una_logo.png\" width=\"260\" height=\"60\">\n",
    "<center>\n",
    "    <b>Econometría</b><br>\n",
    "    <b>Profesor:  Alexander Amoretti</b><br>\n",
    "    <b>Desarrollo:  Diego Armando Barquero Sánchez, Estudiante de Tercer Ciclo</b>\n",
    "<br><br>   \n",
    "<div style=\"font-size:200%;color:white; background-color: #A93226;\">Hodrick Prescott</div>\n",
    "<div style=\"font-size:100%;color:white; background-color: #A93226;\">Desestacionalizando el PIB</div>\n",
    "\n",
    "<i>Creado:     2023-Jul-15 \n",
    "    <br>\n",
    "    Actualizado: 2023-Jul-18 </i>"
   ]
  },
  {
   "cell_type": "markdown",
   "id": "ab91b972",
   "metadata": {},
   "source": [
    "# *Librerías*"
   ]
  },
  {
   "cell_type": "code",
   "execution_count": 86,
   "id": "9ace4552",
   "metadata": {},
   "outputs": [],
   "source": [
    "import numpy as np\n",
    "import pandas as pd\n",
    "import matplotlib.pyplot as plt\n",
    "import seaborn as sns\n",
    "%matplotlib inline\n",
    "from scipy import stats\n",
    "from sklearn.metrics import mean_squared_error\n",
    "import statsmodels.api as sm\n",
    "import statsmodels.stats.diagnostic as smd\n",
    "import warnings\n",
    "warnings.filterwarnings('ignore')\n",
    "import warnings\n",
    "from statsmodels.tools.sm_exceptions import ConvergenceWarning\n",
    "warnings.filterwarnings('ignore')\n",
    "warnings.simplefilter('ignore', ConvergenceWarning)"
   ]
  },
  {
   "cell_type": "markdown",
   "id": "590108a2",
   "metadata": {},
   "source": [
    "# *Cargamos los datos*"
   ]
  },
  {
   "cell_type": "code",
   "execution_count": 87,
   "id": "cd85a108",
   "metadata": {},
   "outputs": [],
   "source": [
    "datos = pd.read_excel('datos.xlsx')"
   ]
  },
  {
   "cell_type": "markdown",
   "id": "13f8c3b1",
   "metadata": {},
   "source": [
    "## *Llamamos a las primeras 5 filas del DataFrame*"
   ]
  },
  {
   "cell_type": "code",
   "execution_count": 88,
   "id": "7a2212ca",
   "metadata": {},
   "outputs": [
    {
     "data": {
      "text/html": [
       "<div>\n",
       "<style scoped>\n",
       "    .dataframe tbody tr th:only-of-type {\n",
       "        vertical-align: middle;\n",
       "    }\n",
       "\n",
       "    .dataframe tbody tr th {\n",
       "        vertical-align: top;\n",
       "    }\n",
       "\n",
       "    .dataframe thead th {\n",
       "        text-align: right;\n",
       "    }\n",
       "</style>\n",
       "<table border=\"1\" class=\"dataframe\">\n",
       "  <thead>\n",
       "    <tr style=\"text-align: right;\">\n",
       "      <th></th>\n",
       "      <th>Periodo</th>\n",
       "      <th>PIB desestacionalizada</th>\n",
       "      <th>LOGPIB</th>\n",
       "    </tr>\n",
       "  </thead>\n",
       "  <tbody>\n",
       "    <tr>\n",
       "      <th>0</th>\n",
       "      <td>1991Q1</td>\n",
       "      <td>2648283.52</td>\n",
       "      <td>14.789422</td>\n",
       "    </tr>\n",
       "    <tr>\n",
       "      <th>1</th>\n",
       "      <td>1991Q2</td>\n",
       "      <td>2670737.47</td>\n",
       "      <td>14.797865</td>\n",
       "    </tr>\n",
       "    <tr>\n",
       "      <th>2</th>\n",
       "      <td>1991Q3</td>\n",
       "      <td>2684833.13</td>\n",
       "      <td>14.803129</td>\n",
       "    </tr>\n",
       "    <tr>\n",
       "      <th>3</th>\n",
       "      <td>1991Q4</td>\n",
       "      <td>2797570.45</td>\n",
       "      <td>14.844262</td>\n",
       "    </tr>\n",
       "    <tr>\n",
       "      <th>4</th>\n",
       "      <td>1992Q1</td>\n",
       "      <td>2849853.99</td>\n",
       "      <td>14.862778</td>\n",
       "    </tr>\n",
       "  </tbody>\n",
       "</table>\n",
       "</div>"
      ],
      "text/plain": [
       "  Periodo  PIB desestacionalizada     LOGPIB\n",
       "0  1991Q1              2648283.52  14.789422\n",
       "1  1991Q2              2670737.47  14.797865\n",
       "2  1991Q3              2684833.13  14.803129\n",
       "3  1991Q4              2797570.45  14.844262\n",
       "4  1992Q1              2849853.99  14.862778"
      ]
     },
     "execution_count": 88,
     "metadata": {},
     "output_type": "execute_result"
    }
   ],
   "source": [
    "datos.head()"
   ]
  },
  {
   "cell_type": "markdown",
   "id": "47276564",
   "metadata": {},
   "source": [
    "## *Llamamos a las últimas 5 filas del DataFrame*"
   ]
  },
  {
   "cell_type": "code",
   "execution_count": 89,
   "id": "033d3049",
   "metadata": {},
   "outputs": [
    {
     "data": {
      "text/html": [
       "<div>\n",
       "<style scoped>\n",
       "    .dataframe tbody tr th:only-of-type {\n",
       "        vertical-align: middle;\n",
       "    }\n",
       "\n",
       "    .dataframe tbody tr th {\n",
       "        vertical-align: top;\n",
       "    }\n",
       "\n",
       "    .dataframe thead th {\n",
       "        text-align: right;\n",
       "    }\n",
       "</style>\n",
       "<table border=\"1\" class=\"dataframe\">\n",
       "  <thead>\n",
       "    <tr style=\"text-align: right;\">\n",
       "      <th></th>\n",
       "      <th>Periodo</th>\n",
       "      <th>PIB desestacionalizada</th>\n",
       "      <th>LOGPIB</th>\n",
       "    </tr>\n",
       "  </thead>\n",
       "  <tbody>\n",
       "    <tr>\n",
       "      <th>123</th>\n",
       "      <td>2021Q4</td>\n",
       "      <td>9603561.81</td>\n",
       "      <td>16.077645</td>\n",
       "    </tr>\n",
       "    <tr>\n",
       "      <th>124</th>\n",
       "      <td>2022Q1</td>\n",
       "      <td>9610616.39</td>\n",
       "      <td>16.078379</td>\n",
       "    </tr>\n",
       "    <tr>\n",
       "      <th>125</th>\n",
       "      <td>2022Q2</td>\n",
       "      <td>9657776.14</td>\n",
       "      <td>16.083274</td>\n",
       "    </tr>\n",
       "    <tr>\n",
       "      <th>126</th>\n",
       "      <td>2022Q3</td>\n",
       "      <td>9765123.49</td>\n",
       "      <td>16.094328</td>\n",
       "    </tr>\n",
       "    <tr>\n",
       "      <th>127</th>\n",
       "      <td>2022Q4</td>\n",
       "      <td>9765123.49</td>\n",
       "      <td>16.094328</td>\n",
       "    </tr>\n",
       "  </tbody>\n",
       "</table>\n",
       "</div>"
      ],
      "text/plain": [
       "    Periodo  PIB desestacionalizada     LOGPIB\n",
       "123  2021Q4              9603561.81  16.077645\n",
       "124  2022Q1              9610616.39  16.078379\n",
       "125  2022Q2              9657776.14  16.083274\n",
       "126  2022Q3              9765123.49  16.094328\n",
       "127  2022Q4              9765123.49  16.094328"
      ]
     },
     "execution_count": 89,
     "metadata": {},
     "output_type": "execute_result"
    }
   ],
   "source": [
    "datos.tail()"
   ]
  },
  {
   "cell_type": "markdown",
   "id": "90269ac0",
   "metadata": {},
   "source": [
    "## *Cambiamos el índice*"
   ]
  },
  {
   "cell_type": "code",
   "execution_count": 90,
   "id": "0e1b5673",
   "metadata": {},
   "outputs": [],
   "source": [
    "index = pd.Index(sm.tsa.datetools.dates_from_range(\"1991Q1\", \"2022Q4\"))\n",
    "datos.set_index(index, inplace=True)"
   ]
  },
  {
   "cell_type": "code",
   "execution_count": 91,
   "id": "ea6aa511",
   "metadata": {},
   "outputs": [],
   "source": [
    "datos.drop(\"Periodo\", axis = 1, inplace = True) # borramos la columna periodo por que ya no me sirve"
   ]
  },
  {
   "cell_type": "code",
   "execution_count": 92,
   "id": "bf3d4ab8",
   "metadata": {},
   "outputs": [
    {
     "data": {
      "text/html": [
       "<div>\n",
       "<style scoped>\n",
       "    .dataframe tbody tr th:only-of-type {\n",
       "        vertical-align: middle;\n",
       "    }\n",
       "\n",
       "    .dataframe tbody tr th {\n",
       "        vertical-align: top;\n",
       "    }\n",
       "\n",
       "    .dataframe thead th {\n",
       "        text-align: right;\n",
       "    }\n",
       "</style>\n",
       "<table border=\"1\" class=\"dataframe\">\n",
       "  <thead>\n",
       "    <tr style=\"text-align: right;\">\n",
       "      <th></th>\n",
       "      <th>PIB desestacionalizada</th>\n",
       "      <th>LOGPIB</th>\n",
       "    </tr>\n",
       "  </thead>\n",
       "  <tbody>\n",
       "    <tr>\n",
       "      <th>1991-03-31</th>\n",
       "      <td>2648283.52</td>\n",
       "      <td>14.789422</td>\n",
       "    </tr>\n",
       "    <tr>\n",
       "      <th>1991-06-30</th>\n",
       "      <td>2670737.47</td>\n",
       "      <td>14.797865</td>\n",
       "    </tr>\n",
       "    <tr>\n",
       "      <th>1991-09-30</th>\n",
       "      <td>2684833.13</td>\n",
       "      <td>14.803129</td>\n",
       "    </tr>\n",
       "    <tr>\n",
       "      <th>1991-12-31</th>\n",
       "      <td>2797570.45</td>\n",
       "      <td>14.844262</td>\n",
       "    </tr>\n",
       "    <tr>\n",
       "      <th>1992-03-31</th>\n",
       "      <td>2849853.99</td>\n",
       "      <td>14.862778</td>\n",
       "    </tr>\n",
       "  </tbody>\n",
       "</table>\n",
       "</div>"
      ],
      "text/plain": [
       "            PIB desestacionalizada     LOGPIB\n",
       "1991-03-31              2648283.52  14.789422\n",
       "1991-06-30              2670737.47  14.797865\n",
       "1991-09-30              2684833.13  14.803129\n",
       "1991-12-31              2797570.45  14.844262\n",
       "1992-03-31              2849853.99  14.862778"
      ]
     },
     "execution_count": 92,
     "metadata": {},
     "output_type": "execute_result"
    }
   ],
   "source": [
    "datos.head() # confirmamos que se borro\n"
   ]
  },
  {
   "cell_type": "markdown",
   "id": "d07d4ea0",
   "metadata": {},
   "source": [
    "# *Realizamos gráficos para visualizar las series de tiempo*"
   ]
  },
  {
   "cell_type": "code",
   "execution_count": 93,
   "id": "337fc7b6",
   "metadata": {},
   "outputs": [
    {
     "data": {
      "image/png": "[encoded data removed]",
      "text/plain": [
       "<Figure size 2000x700 with 2 Axes>"
      ]
     },
     "metadata": {},
     "output_type": "display_data"
    }
   ],
   "source": [
    "fig, (ax1, ax2) = plt.subplots(1,2, figsize = (20,7))\n",
    "fig.suptitle('Gráficos de series de tiempo', fontsize =15)\n",
    "ax1.plot(datos.index, datos['PIB desestacionalizada'], '-o',  color = 'teal', label = 'PIBD')\n",
    "ax1.set(xlabel= 'Año', ylabel= \"PIB desestacionalizada\")\n",
    "ax1.set_title('Serie del PIB desestacionalizada')\n",
    "ax1.legend(loc='best')\n",
    "ax2.plot(datos.index, datos['LOGPIB'], '-o',  color = 'indianred', label = 'LOGPIB')\n",
    "ax2.set(xlabel= 'Año', ylabel= \"Logaritmo del PIB\")\n",
    "ax2.set_title('Serie del Logaritmo del PIB')\n",
    "ax2.legend(loc='best')\n",
    "plt.subplots_adjust(top=0.84)\n",
    "plt.show()"
   ]
  },
  {
   "cell_type": "markdown",
   "id": "c385a248",
   "metadata": {},
   "source": [
    "# *Aplicamos el Hodrick Prescott empleando la optimización*\n",
    "Si no quisieramos que se optimizará de forma automatica empleariamos un parametro adicional.\n",
    "Ejemplo: sm.tsa.filters.hpfilter(datos[\"LOGPIB\"], 1600)<br>\n",
    "En el ejemplo el segundo parametro en el método sera el lamda a emplear"
   ]
  },
  {
   "cell_type": "code",
   "execution_count": 94,
   "id": "96009b7d",
   "metadata": {},
   "outputs": [],
   "source": [
    "LOGPIB_ciclo, LOGPIB_tendencia = sm.tsa.filters.hpfilter(datos[\"LOGPIB\"]) # asignamos los resultados a dos variables"
   ]
  },
  {
   "cell_type": "code",
   "execution_count": 95,
   "id": "d6ec424c",
   "metadata": {},
   "outputs": [],
   "source": [
    "datos[\"Ciclo_LOGPIB\"] = LOGPIB_ciclo # guardamos esas nuevas variables dentro del dataframe como columnas\n",
    "datos[\"Tendencia_LOGPIB\"] = LOGPIB_tendencia"
   ]
  },
  {
   "cell_type": "code",
   "execution_count": 96,
   "id": "03ebfa04",
   "metadata": {},
   "outputs": [
    {
     "data": {
      "text/html": [
       "<div>\n",
       "<style scoped>\n",
       "    .dataframe tbody tr th:only-of-type {\n",
       "        vertical-align: middle;\n",
       "    }\n",
       "\n",
       "    .dataframe tbody tr th {\n",
       "        vertical-align: top;\n",
       "    }\n",
       "\n",
       "    .dataframe thead th {\n",
       "        text-align: right;\n",
       "    }\n",
       "</style>\n",
       "<table border=\"1\" class=\"dataframe\">\n",
       "  <thead>\n",
       "    <tr style=\"text-align: right;\">\n",
       "      <th></th>\n",
       "      <th>PIB desestacionalizada</th>\n",
       "      <th>LOGPIB</th>\n",
       "      <th>Ciclo_LOGPIB</th>\n",
       "      <th>Tendencia_LOGPIB</th>\n",
       "    </tr>\n",
       "  </thead>\n",
       "  <tbody>\n",
       "    <tr>\n",
       "      <th>1991-03-31</th>\n",
       "      <td>2648283.52</td>\n",
       "      <td>14.789422</td>\n",
       "      <td>-0.018053</td>\n",
       "      <td>14.807475</td>\n",
       "    </tr>\n",
       "    <tr>\n",
       "      <th>1991-06-30</th>\n",
       "      <td>2670737.47</td>\n",
       "      <td>14.797865</td>\n",
       "      <td>-0.024785</td>\n",
       "      <td>14.822650</td>\n",
       "    </tr>\n",
       "    <tr>\n",
       "      <th>1991-09-30</th>\n",
       "      <td>2684833.13</td>\n",
       "      <td>14.803129</td>\n",
       "      <td>-0.034685</td>\n",
       "      <td>14.837814</td>\n",
       "    </tr>\n",
       "    <tr>\n",
       "      <th>1991-12-31</th>\n",
       "      <td>2797570.45</td>\n",
       "      <td>14.844262</td>\n",
       "      <td>-0.008678</td>\n",
       "      <td>14.852940</td>\n",
       "    </tr>\n",
       "    <tr>\n",
       "      <th>1992-03-31</th>\n",
       "      <td>2849853.99</td>\n",
       "      <td>14.862778</td>\n",
       "      <td>-0.005200</td>\n",
       "      <td>14.867979</td>\n",
       "    </tr>\n",
       "  </tbody>\n",
       "</table>\n",
       "</div>"
      ],
      "text/plain": [
       "            PIB desestacionalizada     LOGPIB  Ciclo_LOGPIB  Tendencia_LOGPIB\n",
       "1991-03-31              2648283.52  14.789422     -0.018053         14.807475\n",
       "1991-06-30              2670737.47  14.797865     -0.024785         14.822650\n",
       "1991-09-30              2684833.13  14.803129     -0.034685         14.837814\n",
       "1991-12-31              2797570.45  14.844262     -0.008678         14.852940\n",
       "1992-03-31              2849853.99  14.862778     -0.005200         14.867979"
      ]
     },
     "execution_count": 96,
     "metadata": {},
     "output_type": "execute_result"
    }
   ],
   "source": [
    "datos.head() # vemos si efectivamente se guardaron"
   ]
  },
  {
   "cell_type": "markdown",
   "id": "a85642a9",
   "metadata": {},
   "source": [
    "## *Gráfico para visualizar los resultados*\n",
    "En este caso realice dos gráficos <br>\n",
    "- El primero para visualizar la diferencia entre el LOGPIB y si tendencia ( Brecha del Producto ) \n",
    "- El segundo lo separe debido a que por las dimensiones el gráfico no se veía adecuadamente( dejo el código en comentario por si desean ver los tres elementos gráficados )"
   ]
  },
  {
   "cell_type": "code",
   "execution_count": 98,
   "id": "01ace4f4",
   "metadata": {},
   "outputs": [
    {
     "data": {
      "image/png": "[encoded data removed]",
      "text/plain": [
       "<Figure size 2000x500 with 1 Axes>"
      ]
     },
     "metadata": {},
     "output_type": "display_data"
    }
   ],
   "source": [
    "fig, (ax1) = plt.subplots(1,1, figsize = (20,5))\n",
    "ax1.plot(datos.index, datos['LOGPIB'], '-o',  color = 'teal', label = 'PIBD')\n",
    "ax1.plot(datos.index, datos['Tendencia_LOGPIB'], '-o',  color = 'lightblue', label = 'Trend')\n",
    "#ax1.plot(datos.index, datos[\"Ciclo_LOGPIB\"],'-o',  color = 'green', label = 'Cycle')\n",
    "ax1.set(xlabel= 'Trimestres', ylabel= \"Millones de colones \")\n",
    "ax1.set_title('Metodo Hodrick-Prescott')\n",
    "ax1.legend(loc='best', fontsize = 10)\n",
    "\n",
    "plt.subplots_adjust(top=0.84)\n",
    "\n",
    "plt.show()"
   ]
  },
  {
   "cell_type": "code",
   "execution_count": 100,
   "id": "226b4fd7",
   "metadata": {},
   "outputs": [
    {
     "data": {
      "application/vnd.plotly.v1+json": {
       "config": {
        "plotlyServerURL": "https://plot.ly"
       },
       "data": [
        {
         "line": {
          "color": "royalblue",
          "dash": "dot",
          "width": 4
         },
         "name": "Ciclo",
         "type": "scatter",
         "x": [
          "1991-03-31T00:00:00",
          "1991-06-30T00:00:00",
          "1991-09-30T00:00:00",
          "1991-12-31T00:00:00",
          "1992-03-31T00:00:00",
          "1992-06-30T00:00:00",
          "1992-09-30T00:00:00",
          "1992-12-31T00:00:00",
          "1993-03-31T00:00:00",
          "1993-06-30T00:00:00",
          "1993-09-30T00:00:00",
          "1993-12-31T00:00:00",
          "1994-03-31T00:00:00",
          "1994-06-30T00:00:00",
          "1994-09-30T00:00:00",
          "1994-12-31T00:00:00",
          "1995-03-31T00:00:00",
          "1995-06-30T00:00:00",
          "1995-09-30T00:00:00",
          "1995-12-31T00:00:00",
          "1996-03-31T00:00:00",
          "1996-06-30T00:00:00",
          "1996-09-30T00:00:00",
          "1996-12-31T00:00:00",
          "1997-03-31T00:00:00",
          "1997-06-30T00:00:00",
          "1997-09-30T00:00:00",
          "1997-12-31T00:00:00",
          "1998-03-31T00:00:00",
          "1998-06-30T00:00:00",
          "1998-09-30T00:00:00",
          "1998-12-31T00:00:00",
          "1999-03-31T00:00:00",
          "1999-06-30T00:00:00",
          "1999-09-30T00:00:00",
          "1999-12-31T00:00:00",
          "2000-03-31T00:00:00",
          "2000-06-30T00:00:00",
          "2000-09-30T00:00:00",
          "2000-12-31T00:00:00",
          "2001-03-31T00:00:00",
          "2001-06-30T00:00:00",
          "2001-09-30T00:00:00",
          "2001-12-31T00:00:00",
          "2002-03-31T00:00:00",
          "2002-06-30T00:00:00",
          "2002-09-30T00:00:00",
          "2002-12-31T00:00:00",
          "2003-03-31T00:00:00",
          "2003-06-30T00:00:00",
          "2003-09-30T00:00:00",
          "2003-12-31T00:00:00",
          "2004-03-31T00:00:00",
          "2004-06-30T00:00:00",
          "2004-09-30T00:00:00",
          "2004-12-31T00:00:00",
          "2005-03-31T00:00:00",
          "2005-06-30T00:00:00",
          "2005-09-30T00:00:00",
          "2005-12-31T00:00:00",
          "2006-03-31T00:00:00",
          "2006-06-30T00:00:00",
          "2006-09-30T00:00:00",
          "2006-12-31T00:00:00",
          "2007-03-31T00:00:00",
          "2007-06-30T00:00:00",
          "2007-09-30T00:00:00",
          "2007-12-31T00:00:00",
          "2008-03-31T00:00:00",
          "2008-06-30T00:00:00",
          "2008-09-30T00:00:00",
          "2008-12-31T00:00:00",
          "2009-03-31T00:00:00",
          "2009-06-30T00:00:00",
          "2009-09-30T00:00:00",
          "2009-12-31T00:00:00",
          "2010-03-31T00:00:00",
          "2010-06-30T00:00:00",
          "2010-09-30T00:00:00",
          "2010-12-31T00:00:00",
          "2011-03-31T00:00:00",
          "2011-06-30T00:00:00",
          "2011-09-30T00:00:00",
          "2011-12-31T00:00:00",
          "2012-03-31T00:00:00",
          "2012-06-30T00:00:00",
          "2012-09-30T00:00:00",
          "2012-12-31T00:00:00",
          "2013-03-31T00:00:00",
          "2013-06-30T00:00:00",
          "2013-09-30T00:00:00",
          "2013-12-31T00:00:00",
          "2014-03-31T00:00:00",
          "2014-06-30T00:00:00",
          "2014-09-30T00:00:00",
          "2014-12-31T00:00:00",
          "2015-03-31T00:00:00",
          "2015-06-30T00:00:00",
          "2015-09-30T00:00:00",
          "2015-12-31T00:00:00",
          "2016-03-31T00:00:00",
          "2016-06-30T00:00:00",
          "2016-09-30T00:00:00",
          "2016-12-31T00:00:00",
          "2017-03-31T00:00:00",
          "2017-06-30T00:00:00",
          "2017-09-30T00:00:00",
          "2017-12-31T00:00:00",
          "2018-03-31T00:00:00",
          "2018-06-30T00:00:00",
          "2018-09-30T00:00:00",
          "2018-12-31T00:00:00",
          "2019-03-31T00:00:00",
          "2019-06-30T00:00:00",
          "2019-09-30T00:00:00",
          "2019-12-31T00:00:00",
          "2020-03-31T00:00:00",
          "2020-06-30T00:00:00",
          "2020-09-30T00:00:00",
          "2020-12-31T00:00:00",
          "2021-03-31T00:00:00",
          "2021-06-30T00:00:00",
          "2021-09-30T00:00:00",
          "2021-12-31T00:00:00",
          "2022-03-31T00:00:00",
          "2022-06-30T00:00:00",
          "2022-09-30T00:00:00",
          "2022-12-31T00:00:00"
         ],
         "y": [
          -0.018053206713387837,
          -0.02478520682262797,
          -0.03468492532795153,
          -0.0086777563250795,
          -0.005200427702089172,
          0.0007103848856360173,
          0.028862115328479376,
          0.0023664839643924296,
          0.019208062125324332,
          0.014032452108414972,
          0.022207843450717135,
          0.019513006555373025,
          0.0059805360816458375,
          0.02296881606915946,
          0.01886746923331195,
          0.0018922469499464967,
          0.026753406461907048,
          0.009446875362593588,
          -0.0016039759683614818,
          -0.008214505237875258,
          -0.01915784588316427,
          -0.030404298823210496,
          -0.02488906450622963,
          -0.019892272275184197,
          -0.03150619715039049,
          -0.014465491064328262,
          -0.01582277421025502,
          0.0056619297133782,
          0.0175289610349747,
          0.006043096327484676,
          0.0014979597418864898,
          0.017762918111708714,
          0.002023992235944405,
          0.010563972940156319,
          0.008812608738159255,
          0.01596705880732685,
          0.014078632709100702,
          0.005170752803230982,
          0.0037754503234470604,
          0.0027401760901977212,
          0.0070123860257211845,
          -0.0010020901639880009,
          0.0017413070124892016,
          -0.0034392335115978057,
          -0.008521465211526191,
          -0.0005099927274407889,
          -0.0027345236289537667,
          -0.009495898255476476,
          -0.0077992490929794656,
          -0.005808374662267468,
          -0.004346649494214816,
          -0.005002585699614315,
          -0.0065273510965635495,
          -0.004135470307756961,
          -0.01231897096306156,
          -0.01113086919549211,
          -0.01954827833195516,
          -0.022445935567725783,
          -0.018557721975122732,
          -0.016952084320541516,
          -0.01828600173752548,
          -0.006144868290574479,
          0.0017744597295887843,
          0.01827319143768591,
          0.01634416904403757,
          0.030165378993089575,
          0.028560325889197102,
          0.03490351923908719,
          0.045611435125138655,
          0.03325085748451606,
          0.027984360805804798,
          0.006110117968816553,
          -0.027937346702236354,
          -0.0226808657642934,
          -0.02048391890222767,
          -0.015102149104023965,
          -0.012001784748752797,
          -0.009503019410189495,
          -0.0031371945523250844,
          -0.006799087338746901,
          -0.010678746316113319,
          0.003017865309844936,
          -0.0035442239951510857,
          -1.394890123407322e-07,
          0.011690158672303497,
          0.006981880312645572,
          0.0036781491792030607,
          0.0069202266770052034,
          0.0009526660677643406,
          -0.011991704123852642,
          -0.0018173517834103592,
          -0.005068026060278896,
          -0.00150176331229801,
          -0.007325104866852783,
          -0.007515142034110411,
          -0.006183439434746418,
          -0.013353076753436,
          -0.00020313301646623927,
          0.0041124356190387346,
          -0.009679874133547983,
          0.006241008988924435,
          -0.005687975050630456,
          0.004098215239238812,
          0.007144357676642343,
          0.0031247412353785364,
          0.018462571954826146,
          0.010869192357116475,
          0.02251260436752034,
          0.018043998322848864,
          0.02301974748273672,
          0.012814351847060479,
          0.0030452139433307934,
          0.008497072908557612,
          0.01809665814617034,
          0.016300279481047397,
          0.020950689246777898,
          0.0036597478577533593,
          -0.08424219371166153,
          -0.0759215941218585,
          -0.044439470977785334,
          -0.02449115987583994,
          -0.011670289696077418,
          0.015987688050906,
          0.02172218942213533,
          0.015523704377489622,
          0.013436073854368402,
          0.01748318380273517,
          0.010469948070294777
         ]
        }
       ],
       "layout": {
        "template": {
         "data": {
          "bar": [
           {
            "error_x": {
             "color": "#2a3f5f"
            },
            "error_y": {
             "color": "#2a3f5f"
            },
            "marker": {
             "line": {
              "color": "#E5ECF6",
              "width": 0.5
             },
             "pattern": {
              "fillmode": "overlay",
              "size": 10,
              "solidity": 0.2
             }
            },
            "type": "bar"
           }
          ],
          "barpolar": [
           {
            "marker": {
             "line": {
              "color": "#E5ECF6",
              "width": 0.5
             },
             "pattern": {
              "fillmode": "overlay",
              "size": 10,
              "solidity": 0.2
             }
            },
            "type": "barpolar"
           }
          ],
          "carpet": [
           {
            "aaxis": {
             "endlinecolor": "#2a3f5f",
             "gridcolor": "white",
             "linecolor": "white",
             "minorgridcolor": "white",
             "startlinecolor": "#2a3f5f"
            },
            "baxis": {
             "endlinecolor": "#2a3f5f",
             "gridcolor": "white",
             "linecolor": "white",
             "minorgridcolor": "white",
             "startlinecolor": "#2a3f5f"
            },
            "type": "carpet"
           }
          ],
          "choropleth": [
           {
            "colorbar": {
             "outlinewidth": 0,
             "ticks": ""
            },
            "type": "choropleth"
           }
          ],
          "contour": [
           {
            "colorbar": {
             "outlinewidth": 0,
             "ticks": ""
            },
            "colorscale": [
             [
              0,
              "#0d0887"
             ],
             [
              0.1111111111111111,
              "#46039f"
             ],
             [
              0.2222222222222222,
              "#7201a8"
             ],
             [
              0.3333333333333333,
              "#9c179e"
             ],
             [
              0.4444444444444444,
              "#bd3786"
             ],
             [
              0.5555555555555556,
              "#d8576b"
             ],
             [
              0.6666666666666666,
              "#ed7953"
             ],
             [
              0.7777777777777778,
              "#fb9f3a"
             ],
             [
              0.8888888888888888,
              "#fdca26"
             ],
             [
              1,
              "#f0f921"
             ]
            ],
            "type": "contour"
           }
          ],
          "contourcarpet": [
           {
            "colorbar": {
             "outlinewidth": 0,
             "ticks": ""
            },
            "type": "contourcarpet"
           }
          ],
          "heatmap": [
           {
            "colorbar": {
             "outlinewidth": 0,
             "ticks": ""
            },
            "colorscale": [
             [
              0,
              "#0d0887"
             ],
             [
              0.1111111111111111,
              "#46039f"
             ],
             [
              0.2222222222222222,
              "#7201a8"
             ],
             [
              0.3333333333333333,
              "#9c179e"
             ],
             [
              0.4444444444444444,
              "#bd3786"
             ],
             [
              0.5555555555555556,
              "#d8576b"
             ],
             [
              0.6666666666666666,
              "#ed7953"
             ],
             [
              0.7777777777777778,
              "#fb9f3a"
             ],
             [
              0.8888888888888888,
              "#fdca26"
             ],
             [
              1,
              "#f0f921"
             ]
            ],
            "type": "heatmap"
           }
          ],
          "heatmapgl": [
           {
            "colorbar": {
             "outlinewidth": 0,
             "ticks": ""
            },
            "colorscale": [
             [
              0,
              "#0d0887"
             ],
             [
              0.1111111111111111,
              "#46039f"
             ],
             [
              0.2222222222222222,
              "#7201a8"
             ],
             [
              0.3333333333333333,
              "#9c179e"
             ],
             [
              0.4444444444444444,
              "#bd3786"
             ],
             [
              0.5555555555555556,
              "#d8576b"
             ],
             [
              0.6666666666666666,
              "#ed7953"
             ],
             [
              0.7777777777777778,
              "#fb9f3a"
             ],
             [
              0.8888888888888888,
              "#fdca26"
             ],
             [
              1,
              "#f0f921"
             ]
            ],
            "type": "heatmapgl"
           }
          ],
          "histogram": [
           {
            "marker": {
             "pattern": {
              "fillmode": "overlay",
              "size": 10,
              "solidity": 0.2
             }
            },
            "type": "histogram"
           }
          ],
          "histogram2d": [
           {
            "colorbar": {
             "outlinewidth": 0,
             "ticks": ""
            },
            "colorscale": [
             [
              0,
              "#0d0887"
             ],
             [
              0.1111111111111111,
              "#46039f"
             ],
             [
              0.2222222222222222,
              "#7201a8"
             ],
             [
              0.3333333333333333,
              "#9c179e"
             ],
             [
              0.4444444444444444,
              "#bd3786"
             ],
             [
              0.5555555555555556,
              "#d8576b"
             ],
             [
              0.6666666666666666,
              "#ed7953"
             ],
             [
              0.7777777777777778,
              "#fb9f3a"
             ],
             [
              0.8888888888888888,
              "#fdca26"
             ],
             [
              1,
              "#f0f921"
             ]
            ],
            "type": "histogram2d"
           }
          ],
          "histogram2dcontour": [
           {
            "colorbar": {
             "outlinewidth": 0,
             "ticks": ""
            },
            "colorscale": [
             [
              0,
              "#0d0887"
             ],
             [
              0.1111111111111111,
              "#46039f"
             ],
             [
              0.2222222222222222,
              "#7201a8"
             ],
             [
              0.3333333333333333,
              "#9c179e"
             ],
             [
              0.4444444444444444,
              "#bd3786"
             ],
             [
              0.5555555555555556,
              "#d8576b"
             ],
             [
              0.6666666666666666,
              "#ed7953"
             ],
             [
              0.7777777777777778,
              "#fb9f3a"
             ],
             [
              0.8888888888888888,
              "#fdca26"
             ],
             [
              1,
              "#f0f921"
             ]
            ],
            "type": "histogram2dcontour"
           }
          ],
          "mesh3d": [
           {
            "colorbar": {
             "outlinewidth": 0,
             "ticks": ""
            },
            "type": "mesh3d"
           }
          ],
          "parcoords": [
           {
            "line": {
             "colorbar": {
              "outlinewidth": 0,
              "ticks": ""
             }
            },
            "type": "parcoords"
           }
          ],
          "pie": [
           {
            "automargin": true,
            "type": "pie"
           }
          ],
          "scatter": [
           {
            "fillpattern": {
             "fillmode": "overlay",
             "size": 10,
             "solidity": 0.2
            },
            "type": "scatter"
           }
          ],
          "scatter3d": [
           {
            "line": {
             "colorbar": {
              "outlinewidth": 0,
              "ticks": ""
             }
            },
            "marker": {
             "colorbar": {
              "outlinewidth": 0,
              "ticks": ""
             }
            },
            "type": "scatter3d"
           }
          ],
          "scattercarpet": [
           {
            "marker": {
             "colorbar": {
              "outlinewidth": 0,
              "ticks": ""
             }
            },
            "type": "scattercarpet"
           }
          ],
          "scattergeo": [
           {
            "marker": {
             "colorbar": {
              "outlinewidth": 0,
              "ticks": ""
             }
            },
            "type": "scattergeo"
           }
          ],
          "scattergl": [
           {
            "marker": {
             "colorbar": {
              "outlinewidth": 0,
              "ticks": ""
             }
            },
            "type": "scattergl"
           }
          ],
          "scattermapbox": [
           {
            "marker": {
             "colorbar": {
              "outlinewidth": 0,
              "ticks": ""
             }
            },
            "type": "scattermapbox"
           }
          ],
          "scatterpolar": [
           {
            "marker": {
             "colorbar": {
              "outlinewidth": 0,
              "ticks": ""
             }
            },
            "type": "scatterpolar"
           }
          ],
          "scatterpolargl": [
           {
            "marker": {
             "colorbar": {
              "outlinewidth": 0,
              "ticks": ""
             }
            },
            "type": "scatterpolargl"
           }
          ],
          "scatterternary": [
           {
            "marker": {
             "colorbar": {
              "outlinewidth": 0,
              "ticks": ""
             }
            },
            "type": "scatterternary"
           }
          ],
          "surface": [
           {
            "colorbar": {
             "outlinewidth": 0,
             "ticks": ""
            },
            "colorscale": [
             [
              0,
              "#0d0887"
             ],
             [
              0.1111111111111111,
              "#46039f"
             ],
             [
              0.2222222222222222,
              "#7201a8"
             ],
             [
              0.3333333333333333,
              "#9c179e"
             ],
             [
              0.4444444444444444,
              "#bd3786"
             ],
             [
              0.5555555555555556,
              "#d8576b"
             ],
             [
              0.6666666666666666,
              "#ed7953"
             ],
             [
              0.7777777777777778,
              "#fb9f3a"
             ],
             [
              0.8888888888888888,
              "#fdca26"
             ],
             [
              1,
              "#f0f921"
             ]
            ],
            "type": "surface"
           }
          ],
          "table": [
           {
            "cells": {
             "fill": {
              "color": "#EBF0F8"
             },
             "line": {
              "color": "white"
             }
            },
            "header": {
             "fill": {
              "color": "#C8D4E3"
             },
             "line": {
              "color": "white"
             }
            },
            "type": "table"
           }
          ]
         },
         "layout": {
          "annotationdefaults": {
           "arrowcolor": "#2a3f5f",
           "arrowhead": 0,
           "arrowwidth": 1
          },
          "autotypenumbers": "strict",
          "coloraxis": {
           "colorbar": {
            "outlinewidth": 0,
            "ticks": ""
           }
          },
          "colorscale": {
           "diverging": [
            [
             0,
             "#8e0152"
            ],
            [
             0.1,
             "#c51b7d"
            ],
            [
             0.2,
             "#de77ae"
            ],
            [
             0.3,
             "#f1b6da"
            ],
            [
             0.4,
             "#fde0ef"
            ],
            [
             0.5,
             "#f7f7f7"
            ],
            [
             0.6,
             "#e6f5d0"
            ],
            [
             0.7,
             "#b8e186"
            ],
            [
             0.8,
             "#7fbc41"
            ],
            [
             0.9,
             "#4d9221"
            ],
            [
             1,
             "#276419"
            ]
           ],
           "sequential": [
            [
             0,
             "#0d0887"
            ],
            [
             0.1111111111111111,
             "#46039f"
            ],
            [
             0.2222222222222222,
             "#7201a8"
            ],
            [
             0.3333333333333333,
             "#9c179e"
            ],
            [
             0.4444444444444444,
             "#bd3786"
            ],
            [
             0.5555555555555556,
             "#d8576b"
            ],
            [
             0.6666666666666666,
             "#ed7953"
            ],
            [
             0.7777777777777778,
             "#fb9f3a"
            ],
            [
             0.8888888888888888,
             "#fdca26"
            ],
            [
             1,
             "#f0f921"
            ]
           ],
           "sequentialminus": [
            [
             0,
             "#0d0887"
            ],
            [
             0.1111111111111111,
             "#46039f"
            ],
            [
             0.2222222222222222,
             "#7201a8"
            ],
            [
             0.3333333333333333,
             "#9c179e"
            ],
            [
             0.4444444444444444,
             "#bd3786"
            ],
            [
             0.5555555555555556,
             "#d8576b"
            ],
            [
             0.6666666666666666,
             "#ed7953"
            ],
            [
             0.7777777777777778,
             "#fb9f3a"
            ],
            [
             0.8888888888888888,
             "#fdca26"
            ],
            [
             1,
             "#f0f921"
            ]
           ]
          },
          "colorway": [
           "#636efa",
           "#EF553B",
           "#00cc96",
           "#ab63fa",
           "#FFA15A",
           "#19d3f3",
           "#FF6692",
           "#B6E880",
           "#FF97FF",
           "#FECB52"
          ],
          "font": {
           "color": "#2a3f5f"
          },
          "geo": {
           "bgcolor": "white",
           "lakecolor": "white",
           "landcolor": "#E5ECF6",
           "showlakes": true,
           "showland": true,
           "subunitcolor": "white"
          },
          "hoverlabel": {
           "align": "left"
          },
          "hovermode": "closest",
          "mapbox": {
           "style": "light"
          },
          "paper_bgcolor": "white",
          "plot_bgcolor": "#E5ECF6",
          "polar": {
           "angularaxis": {
            "gridcolor": "white",
            "linecolor": "white",
            "ticks": ""
           },
           "bgcolor": "#E5ECF6",
           "radialaxis": {
            "gridcolor": "white",
            "linecolor": "white",
            "ticks": ""
           }
          },
          "scene": {
           "xaxis": {
            "backgroundcolor": "#E5ECF6",
            "gridcolor": "white",
            "gridwidth": 2,
            "linecolor": "white",
            "showbackground": true,
            "ticks": "",
            "zerolinecolor": "white"
           },
           "yaxis": {
            "backgroundcolor": "#E5ECF6",
            "gridcolor": "white",
            "gridwidth": 2,
            "linecolor": "white",
            "showbackground": true,
            "ticks": "",
            "zerolinecolor": "white"
           },
           "zaxis": {
            "backgroundcolor": "#E5ECF6",
            "gridcolor": "white",
            "gridwidth": 2,
            "linecolor": "white",
            "showbackground": true,
            "ticks": "",
            "zerolinecolor": "white"
           }
          },
          "shapedefaults": {
           "line": {
            "color": "#2a3f5f"
           }
          },
          "ternary": {
           "aaxis": {
            "gridcolor": "white",
            "linecolor": "white",
            "ticks": ""
           },
           "baxis": {
            "gridcolor": "white",
            "linecolor": "white",
            "ticks": ""
           },
           "bgcolor": "#E5ECF6",
           "caxis": {
            "gridcolor": "white",
            "linecolor": "white",
            "ticks": ""
           }
          },
          "title": {
           "x": 0.05
          },
          "xaxis": {
           "automargin": true,
           "gridcolor": "white",
           "linecolor": "white",
           "ticks": "",
           "title": {
            "standoff": 15
           },
           "zerolinecolor": "white",
           "zerolinewidth": 2
          },
          "yaxis": {
           "automargin": true,
           "gridcolor": "white",
           "linecolor": "white",
           "ticks": "",
           "title": {
            "standoff": 15
           },
           "zerolinecolor": "white",
           "zerolinewidth": 2
          }
         }
        }
       }
      },
      "text/html": [
       "<div>                            <div id=\"190484a0-2fe4-4901-9906-9c26fd79160b\" class=\"plotly-graph-div\" style=\"height:525px; width:100%;\"></div>            <script type=\"text/javascript\">                require([\"plotly\"], function(Plotly) {                    window.PLOTLYENV=window.PLOTLYENV || {};                                    if (document.getElementById(\"190484a0-2fe4-4901-9906-9c26fd79160b\")) {                    Plotly.newPlot(                        \"190484a0-2fe4-4901-9906-9c26fd79160b\",                        [{\"line\":{\"color\":\"royalblue\",\"dash\":\"dot\",\"width\":4},\"name\":\"Ciclo\",\"x\":[\"1991-03-31T00:00:00\",\"1991-06-30T00:00:00\",\"1991-09-30T00:00:00\",\"1991-12-31T00:00:00\",\"1992-03-31T00:00:00\",\"1992-06-30T00:00:00\",\"1992-09-30T00:00:00\",\"1992-12-31T00:00:00\",\"1993-03-31T00:00:00\",\"1993-06-30T00:00:00\",\"1993-09-30T00:00:00\",\"1993-12-31T00:00:00\",\"1994-03-31T00:00:00\",\"1994-06-30T00:00:00\",\"1994-09-30T00:00:00\",\"1994-12-31T00:00:00\",\"1995-03-31T00:00:00\",\"1995-06-30T00:00:00\",\"1995-09-30T00:00:00\",\"1995-12-31T00:00:00\",\"1996-03-31T00:00:00\",\"1996-06-30T00:00:00\",\"1996-09-30T00:00:00\",\"1996-12-31T00:00:00\",\"1997-03-31T00:00:00\",\"1997-06-30T00:00:00\",\"1997-09-30T00:00:00\",\"1997-12-31T00:00:00\",\"1998-03-31T00:00:00\",\"1998-06-30T00:00:00\",\"1998-09-30T00:00:00\",\"1998-12-31T00:00:00\",\"1999-03-31T00:00:00\",\"1999-06-30T00:00:00\",\"1999-09-30T00:00:00\",\"1999-12-31T00:00:00\",\"2000-03-31T00:00:00\",\"2000-06-30T00:00:00\",\"2000-09-30T00:00:00\",\"2000-12-31T00:00:00\",\"2001-03-31T00:00:00\",\"2001-06-30T00:00:00\",\"2001-09-30T00:00:00\",\"2001-12-31T00:00:00\",\"2002-03-31T00:00:00\",\"2002-06-30T00:00:00\",\"2002-09-30T00:00:00\",\"2002-12-31T00:00:00\",\"2003-03-31T00:00:00\",\"2003-06-30T00:00:00\",\"2003-09-30T00:00:00\",\"2003-12-31T00:00:00\",\"2004-03-31T00:00:00\",\"2004-06-30T00:00:00\",\"2004-09-30T00:00:00\",\"2004-12-31T00:00:00\",\"2005-03-31T00:00:00\",\"2005-06-30T00:00:00\",\"2005-09-30T00:00:00\",\"2005-12-31T00:00:00\",\"2006-03-31T00:00:00\",\"2006-06-30T00:00:00\",\"2006-09-30T00:00:00\",\"2006-12-31T00:00:00\",\"2007-03-31T00:00:00\",\"2007-06-30T00:00:00\",\"2007-09-30T00:00:00\",\"2007-12-31T00:00:00\",\"2008-03-31T00:00:00\",\"2008-06-30T00:00:00\",\"2008-09-30T00:00:00\",\"2008-12-31T00:00:00\",\"2009-03-31T00:00:00\",\"2009-06-30T00:00:00\",\"2009-09-30T00:00:00\",\"2009-12-31T00:00:00\",\"2010-03-31T00:00:00\",\"2010-06-30T00:00:00\",\"2010-09-30T00:00:00\",\"2010-12-31T00:00:00\",\"2011-03-31T00:00:00\",\"2011-06-30T00:00:00\",\"2011-09-30T00:00:00\",\"2011-12-31T00:00:00\",\"2012-03-31T00:00:00\",\"2012-06-30T00:00:00\",\"2012-09-30T00:00:00\",\"2012-12-31T00:00:00\",\"2013-03-31T00:00:00\",\"2013-06-30T00:00:00\",\"2013-09-30T00:00:00\",\"2013-12-31T00:00:00\",\"2014-03-31T00:00:00\",\"2014-06-30T00:00:00\",\"2014-09-30T00:00:00\",\"2014-12-31T00:00:00\",\"2015-03-31T00:00:00\",\"2015-06-30T00:00:00\",\"2015-09-30T00:00:00\",\"2015-12-31T00:00:00\",\"2016-03-31T00:00:00\",\"2016-06-30T00:00:00\",\"2016-09-30T00:00:00\",\"2016-12-31T00:00:00\",\"2017-03-31T00:00:00\",\"2017-06-30T00:00:00\",\"2017-09-30T00:00:00\",\"2017-12-31T00:00:00\",\"2018-03-31T00:00:00\",\"2018-06-30T00:00:00\",\"2018-09-30T00:00:00\",\"2018-12-31T00:00:00\",\"2019-03-31T00:00:00\",\"2019-06-30T00:00:00\",\"2019-09-30T00:00:00\",\"2019-12-31T00:00:00\",\"2020-03-31T00:00:00\",\"2020-06-30T00:00:00\",\"2020-09-30T00:00:00\",\"2020-12-31T00:00:00\",\"2021-03-31T00:00:00\",\"2021-06-30T00:00:00\",\"2021-09-30T00:00:00\",\"2021-12-31T00:00:00\",\"2022-03-31T00:00:00\",\"2022-06-30T00:00:00\",\"2022-09-30T00:00:00\",\"2022-12-31T00:00:00\"],\"y\":[-0.018053206713387837,-0.02478520682262797,-0.03468492532795153,-0.0086777563250795,-0.005200427702089172,0.0007103848856360173,0.028862115328479376,0.0023664839643924296,0.019208062125324332,0.014032452108414972,0.022207843450717135,0.019513006555373025,0.0059805360816458375,0.02296881606915946,0.01886746923331195,0.0018922469499464967,0.026753406461907048,0.009446875362593588,-0.0016039759683614818,-0.008214505237875258,-0.01915784588316427,-0.030404298823210496,-0.02488906450622963,-0.019892272275184197,-0.03150619715039049,-0.014465491064328262,-0.01582277421025502,0.0056619297133782,0.0175289610349747,0.006043096327484676,0.0014979597418864898,0.017762918111708714,0.002023992235944405,0.010563972940156319,0.008812608738159255,0.01596705880732685,0.014078632709100702,0.005170752803230982,0.0037754503234470604,0.0027401760901977212,0.0070123860257211845,-0.0010020901639880009,0.0017413070124892016,-0.0034392335115978057,-0.008521465211526191,-0.0005099927274407889,-0.0027345236289537667,-0.009495898255476476,-0.0077992490929794656,-0.005808374662267468,-0.004346649494214816,-0.005002585699614315,-0.0065273510965635495,-0.004135470307756961,-0.01231897096306156,-0.01113086919549211,-0.01954827833195516,-0.022445935567725783,-0.018557721975122732,-0.016952084320541516,-0.01828600173752548,-0.006144868290574479,0.0017744597295887843,0.01827319143768591,0.01634416904403757,0.030165378993089575,0.028560325889197102,0.03490351923908719,0.045611435125138655,0.03325085748451606,0.027984360805804798,0.006110117968816553,-0.027937346702236354,-0.0226808657642934,-0.02048391890222767,-0.015102149104023965,-0.012001784748752797,-0.009503019410189495,-0.0031371945523250844,-0.006799087338746901,-0.010678746316113319,0.003017865309844936,-0.0035442239951510857,-1.394890123407322e-07,0.011690158672303497,0.006981880312645572,0.0036781491792030607,0.0069202266770052034,0.0009526660677643406,-0.011991704123852642,-0.0018173517834103592,-0.005068026060278896,-0.00150176331229801,-0.007325104866852783,-0.007515142034110411,-0.006183439434746418,-0.013353076753436,-0.00020313301646623927,0.0041124356190387346,-0.009679874133547983,0.006241008988924435,-0.005687975050630456,0.004098215239238812,0.007144357676642343,0.0031247412353785364,0.018462571954826146,0.010869192357116475,0.02251260436752034,0.018043998322848864,0.02301974748273672,0.012814351847060479,0.0030452139433307934,0.008497072908557612,0.01809665814617034,0.016300279481047397,0.020950689246777898,0.0036597478577533593,-0.08424219371166153,-0.0759215941218585,-0.044439470977785334,-0.02449115987583994,-0.011670289696077418,0.015987688050906,0.02172218942213533,0.015523704377489622,0.013436073854368402,0.01748318380273517,0.010469948070294777],\"type\":\"scatter\"}],                        {\"template\":{\"data\":{\"histogram2dcontour\":[{\"type\":\"histogram2dcontour\",\"colorbar\":{\"outlinewidth\":0,\"ticks\":\"\"},\"colorscale\":[[0.0,\"#0d0887\"],[0.1111111111111111,\"#46039f\"],[0.2222222222222222,\"#7201a8\"],[0.3333333333333333,\"#9c179e\"],[0.4444444444444444,\"#bd3786\"],[0.5555555555555556,\"#d8576b\"],[0.6666666666666666,\"#ed7953\"],[0.7777777777777778,\"#fb9f3a\"],[0.8888888888888888,\"#fdca26\"],[1.0,\"#f0f921\"]]}],\"choropleth\":[{\"type\":\"choropleth\",\"colorbar\":{\"outlinewidth\":0,\"ticks\":\"\"}}],\"histogram2d\":[{\"type\":\"histogram2d\",\"colorbar\":{\"outlinewidth\":0,\"ticks\":\"\"},\"colorscale\":[[0.0,\"#0d0887\"],[0.1111111111111111,\"#46039f\"],[0.2222222222222222,\"#7201a8\"],[0.3333333333333333,\"#9c179e\"],[0.4444444444444444,\"#bd3786\"],[0.5555555555555556,\"#d8576b\"],[0.6666666666666666,\"#ed7953\"],[0.7777777777777778,\"#fb9f3a\"],[0.8888888888888888,\"#fdca26\"],[1.0,\"#f0f921\"]]}],\"heatmap\":[{\"type\":\"heatmap\",\"colorbar\":{\"outlinewidth\":0,\"ticks\":\"\"},\"colorscale\":[[0.0,\"#0d0887\"],[0.1111111111111111,\"#46039f\"],[0.2222222222222222,\"#7201a8\"],[0.3333333333333333,\"#9c179e\"],[0.4444444444444444,\"#bd3786\"],[0.5555555555555556,\"#d8576b\"],[0.6666666666666666,\"#ed7953\"],[0.7777777777777778,\"#fb9f3a\"],[0.8888888888888888,\"#fdca26\"],[1.0,\"#f0f921\"]]}],\"heatmapgl\":[{\"type\":\"heatmapgl\",\"colorbar\":{\"outlinewidth\":0,\"ticks\":\"\"},\"colorscale\":[[0.0,\"#0d0887\"],[0.1111111111111111,\"#46039f\"],[0.2222222222222222,\"#7201a8\"],[0.3333333333333333,\"#9c179e\"],[0.4444444444444444,\"#bd3786\"],[0.5555555555555556,\"#d8576b\"],[0.6666666666666666,\"#ed7953\"],[0.7777777777777778,\"#fb9f3a\"],[0.8888888888888888,\"#fdca26\"],[1.0,\"#f0f921\"]]}],\"contourcarpet\":[{\"type\":\"contourcarpet\",\"colorbar\":{\"outlinewidth\":0,\"ticks\":\"\"}}],\"contour\":[{\"type\":\"contour\",\"colorbar\":{\"outlinewidth\":0,\"ticks\":\"\"},\"colorscale\":[[0.0,\"#0d0887\"],[0.1111111111111111,\"#46039f\"],[0.2222222222222222,\"#7201a8\"],[0.3333333333333333,\"#9c179e\"],[0.4444444444444444,\"#bd3786\"],[0.5555555555555556,\"#d8576b\"],[0.6666666666666666,\"#ed7953\"],[0.7777777777777778,\"#fb9f3a\"],[0.8888888888888888,\"#fdca26\"],[1.0,\"#f0f921\"]]}],\"surface\":[{\"type\":\"surface\",\"colorbar\":{\"outlinewidth\":0,\"ticks\":\"\"},\"colorscale\":[[0.0,\"#0d0887\"],[0.1111111111111111,\"#46039f\"],[0.2222222222222222,\"#7201a8\"],[0.3333333333333333,\"#9c179e\"],[0.4444444444444444,\"#bd3786\"],[0.5555555555555556,\"#d8576b\"],[0.6666666666666666,\"#ed7953\"],[0.7777777777777778,\"#fb9f3a\"],[0.8888888888888888,\"#fdca26\"],[1.0,\"#f0f921\"]]}],\"mesh3d\":[{\"type\":\"mesh3d\",\"colorbar\":{\"outlinewidth\":0,\"ticks\":\"\"}}],\"scatter\":[{\"fillpattern\":{\"fillmode\":\"overlay\",\"size\":10,\"solidity\":0.2},\"type\":\"scatter\"}],\"parcoords\":[{\"type\":\"parcoords\",\"line\":{\"colorbar\":{\"outlinewidth\":0,\"ticks\":\"\"}}}],\"scatterpolargl\":[{\"type\":\"scatterpolargl\",\"marker\":{\"colorbar\":{\"outlinewidth\":0,\"ticks\":\"\"}}}],\"bar\":[{\"error_x\":{\"color\":\"#2a3f5f\"},\"error_y\":{\"color\":\"#2a3f5f\"},\"marker\":{\"line\":{\"color\":\"#E5ECF6\",\"width\":0.5},\"pattern\":{\"fillmode\":\"overlay\",\"size\":10,\"solidity\":0.2}},\"type\":\"bar\"}],\"scattergeo\":[{\"type\":\"scattergeo\",\"marker\":{\"colorbar\":{\"outlinewidth\":0,\"ticks\":\"\"}}}],\"scatterpolar\":[{\"type\":\"scatterpolar\",\"marker\":{\"colorbar\":{\"outlinewidth\":0,\"ticks\":\"\"}}}],\"histogram\":[{\"marker\":{\"pattern\":{\"fillmode\":\"overlay\",\"size\":10,\"solidity\":0.2}},\"type\":\"histogram\"}],\"scattergl\":[{\"type\":\"scattergl\",\"marker\":{\"colorbar\":{\"outlinewidth\":0,\"ticks\":\"\"}}}],\"scatter3d\":[{\"type\":\"scatter3d\",\"line\":{\"colorbar\":{\"outlinewidth\":0,\"ticks\":\"\"}},\"marker\":{\"colorbar\":{\"outlinewidth\":0,\"ticks\":\"\"}}}],\"scattermapbox\":[{\"type\":\"scattermapbox\",\"marker\":{\"colorbar\":{\"outlinewidth\":0,\"ticks\":\"\"}}}],\"scatterternary\":[{\"type\":\"scatterternary\",\"marker\":{\"colorbar\":{\"outlinewidth\":0,\"ticks\":\"\"}}}],\"scattercarpet\":[{\"type\":\"scattercarpet\",\"marker\":{\"colorbar\":{\"outlinewidth\":0,\"ticks\":\"\"}}}],\"carpet\":[{\"aaxis\":{\"endlinecolor\":\"#2a3f5f\",\"gridcolor\":\"white\",\"linecolor\":\"white\",\"minorgridcolor\":\"white\",\"startlinecolor\":\"#2a3f5f\"},\"baxis\":{\"endlinecolor\":\"#2a3f5f\",\"gridcolor\":\"white\",\"linecolor\":\"white\",\"minorgridcolor\":\"white\",\"startlinecolor\":\"#2a3f5f\"},\"type\":\"carpet\"}],\"table\":[{\"cells\":{\"fill\":{\"color\":\"#EBF0F8\"},\"line\":{\"color\":\"white\"}},\"header\":{\"fill\":{\"color\":\"#C8D4E3\"},\"line\":{\"color\":\"white\"}},\"type\":\"table\"}],\"barpolar\":[{\"marker\":{\"line\":{\"color\":\"#E5ECF6\",\"width\":0.5},\"pattern\":{\"fillmode\":\"overlay\",\"size\":10,\"solidity\":0.2}},\"type\":\"barpolar\"}],\"pie\":[{\"automargin\":true,\"type\":\"pie\"}]},\"layout\":{\"autotypenumbers\":\"strict\",\"colorway\":[\"#636efa\",\"#EF553B\",\"#00cc96\",\"#ab63fa\",\"#FFA15A\",\"#19d3f3\",\"#FF6692\",\"#B6E880\",\"#FF97FF\",\"#FECB52\"],\"font\":{\"color\":\"#2a3f5f\"},\"hovermode\":\"closest\",\"hoverlabel\":{\"align\":\"left\"},\"paper_bgcolor\":\"white\",\"plot_bgcolor\":\"#E5ECF6\",\"polar\":{\"bgcolor\":\"#E5ECF6\",\"angularaxis\":{\"gridcolor\":\"white\",\"linecolor\":\"white\",\"ticks\":\"\"},\"radialaxis\":{\"gridcolor\":\"white\",\"linecolor\":\"white\",\"ticks\":\"\"}},\"ternary\":{\"bgcolor\":\"#E5ECF6\",\"aaxis\":{\"gridcolor\":\"white\",\"linecolor\":\"white\",\"ticks\":\"\"},\"baxis\":{\"gridcolor\":\"white\",\"linecolor\":\"white\",\"ticks\":\"\"},\"caxis\":{\"gridcolor\":\"white\",\"linecolor\":\"white\",\"ticks\":\"\"}},\"coloraxis\":{\"colorbar\":{\"outlinewidth\":0,\"ticks\":\"\"}},\"colorscale\":{\"sequential\":[[0.0,\"#0d0887\"],[0.1111111111111111,\"#46039f\"],[0.2222222222222222,\"#7201a8\"],[0.3333333333333333,\"#9c179e\"],[0.4444444444444444,\"#bd3786\"],[0.5555555555555556,\"#d8576b\"],[0.6666666666666666,\"#ed7953\"],[0.7777777777777778,\"#fb9f3a\"],[0.8888888888888888,\"#fdca26\"],[1.0,\"#f0f921\"]],\"sequentialminus\":[[0.0,\"#0d0887\"],[0.1111111111111111,\"#46039f\"],[0.2222222222222222,\"#7201a8\"],[0.3333333333333333,\"#9c179e\"],[0.4444444444444444,\"#bd3786\"],[0.5555555555555556,\"#d8576b\"],[0.6666666666666666,\"#ed7953\"],[0.7777777777777778,\"#fb9f3a\"],[0.8888888888888888,\"#fdca26\"],[1.0,\"#f0f921\"]],\"diverging\":[[0,\"#8e0152\"],[0.1,\"#c51b7d\"],[0.2,\"#de77ae\"],[0.3,\"#f1b6da\"],[0.4,\"#fde0ef\"],[0.5,\"#f7f7f7\"],[0.6,\"#e6f5d0\"],[0.7,\"#b8e186\"],[0.8,\"#7fbc41\"],[0.9,\"#4d9221\"],[1,\"#276419\"]]},\"xaxis\":{\"gridcolor\":\"white\",\"linecolor\":\"white\",\"ticks\":\"\",\"title\":{\"standoff\":15},\"zerolinecolor\":\"white\",\"automargin\":true,\"zerolinewidth\":2},\"yaxis\":{\"gridcolor\":\"white\",\"linecolor\":\"white\",\"ticks\":\"\",\"title\":{\"standoff\":15},\"zerolinecolor\":\"white\",\"automargin\":true,\"zerolinewidth\":2},\"scene\":{\"xaxis\":{\"backgroundcolor\":\"#E5ECF6\",\"gridcolor\":\"white\",\"linecolor\":\"white\",\"showbackground\":true,\"ticks\":\"\",\"zerolinecolor\":\"white\",\"gridwidth\":2},\"yaxis\":{\"backgroundcolor\":\"#E5ECF6\",\"gridcolor\":\"white\",\"linecolor\":\"white\",\"showbackground\":true,\"ticks\":\"\",\"zerolinecolor\":\"white\",\"gridwidth\":2},\"zaxis\":{\"backgroundcolor\":\"#E5ECF6\",\"gridcolor\":\"white\",\"linecolor\":\"white\",\"showbackground\":true,\"ticks\":\"\",\"zerolinecolor\":\"white\",\"gridwidth\":2}},\"shapedefaults\":{\"line\":{\"color\":\"#2a3f5f\"}},\"annotationdefaults\":{\"arrowcolor\":\"#2a3f5f\",\"arrowhead\":0,\"arrowwidth\":1},\"geo\":{\"bgcolor\":\"white\",\"landcolor\":\"#E5ECF6\",\"subunitcolor\":\"white\",\"showland\":true,\"showlakes\":true,\"lakecolor\":\"white\"},\"title\":{\"x\":0.05},\"mapbox\":{\"style\":\"light\"}}}},                        {\"responsive\": true}                    ).then(function(){\n",
       "                            \n",
       "var gd = document.getElementById('190484a0-2fe4-4901-9906-9c26fd79160b');\n",
       "var x = new MutationObserver(function (mutations, observer) {{\n",
       "        var display = window.getComputedStyle(gd).display;\n",
       "        if (!display || display === 'none') {{\n",
       "            console.log([gd, 'removed!']);\n",
       "            Plotly.purge(gd);\n",
       "            observer.disconnect();\n",
       "        }}\n",
       "}});\n",
       "\n",
       "// Listen for the removal of the full notebook cells\n",
       "var notebookContainer = gd.closest('#notebook-container');\n",
       "if (notebookContainer) {{\n",
       "    x.observe(notebookContainer, {childList: true});\n",
       "}}\n",
       "\n",
       "// Listen for the clearing of the current output cell\n",
       "var outputEl = gd.closest('.output');\n",
       "if (outputEl) {{\n",
       "    x.observe(outputEl, {childList: true});\n",
       "}}\n",
       "\n",
       "                        })                };                });            </script>        </div>"
      ]
     },
     "metadata": {},
     "output_type": "display_data"
    }
   ],
   "source": [
    "import plotly.graph_objects as go # Gráfico interactivo para ello se empleó la librería Plotly\n",
    "\n",
    "# Create traces\n",
    "fig = go.Figure()\n",
    "fig.add_trace(go.Scatter(x=datos.index, y=datos[\"Ciclo_LOGPIB\"] , name='Ciclo',\n",
    "                         line=dict(color='royalblue', width=4, dash='dot')))\n",
    "fig.show()"
   ]
  },
  {
   "cell_type": "markdown",
   "id": "e8990bbd",
   "metadata": {},
   "source": [
    "# Bibliografía y Documentación de las Librerías"
   ]
  },
  {
   "cell_type": "markdown",
   "id": "72a6921b",
   "metadata": {},
   "source": [
    "##### Referencias Bibliográficas\n",
    "- Odin, & Odin. (2023, 19 junio). Unraveling trends and cycles: An introduction to the Hodrick-Prescott filter - AITechTrend. AITechTrend - Further into the Future. https://aitechtrend.com/unraveling-trends-and-cycles-an-introduction-to-the-hodrick-prescott-filter/ \n",
    "- Sharma, P. (2021, 16 diciembre). Time Series Analysis in Python - Parkash Sharma - Medium. Medium. https://medium.com/@parkashsharma/time-series-analysis-in-python-4f2e7a453ded \n",
    "- Verma, Y., Verma, Y., Verma, Y., & Verma, Y. (2022). A complete guide to Hodrick–Prescott filter in time-series analysis. Analytics India Magazine. https://analyticsindiamag.com/a-complete-guide-to-hodrick-prescott-filter-in-time-series-analysis/\n",
    "\n",
    "##### Documentación Librerías\n",
    "- Numpy : https://numpy.org/doc/stable/\n",
    "- Pandas : https://pandas.pydata.org/docs/getting_started/index.html\n",
    "- Statsmodels : https://www.statsmodels.org/devel/index.html\n",
    "- Matplotlib : https://matplotlib.org/stable/gallery/index.html\n",
    "- Seaborn : https://seaborn.pydata.org/\n",
    "- Scikit-Learn : https://scikit-learn.org/stable/"
   ]
  }
 ],
 "metadata": {
  "kernelspec": {
   "display_name": "Python 3 (ipykernel)",
   "language": "python",
   "name": "python3"
  },
  "language_info": {
   "codemirror_mode": {
    "name": "ipython",
    "version": 3
   },
   "file_extension": ".py",
   "mimetype": "text/x-python",
   "name": "python",
   "nbconvert_exporter": "python",
   "pygments_lexer": "ipython3",
   "version": "3.9.16"
  }
 },
 "nbformat": 4,
 "nbformat_minor": 5
}
